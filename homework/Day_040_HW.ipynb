{
 "cells": [
  {
   "cell_type": "markdown",
   "metadata": {},
   "source": [
    "## [作業重點]\n",
    "使用 Sklearn 中的 Lasso, Ridge 模型，來訓練各種資料集，務必了解送進去模型訓練的**資料型態**為何，也請了解模型中各項參數的意義。\n",
    "\n",
    "機器學習的模型非常多種，但要訓練的資料多半有固定的格式，確保你了解訓練資料的格式為何，這樣在應用新模型時，就能夠最快的上手開始訓練！"
   ]
  },
  {
   "cell_type": "markdown",
   "metadata": {},
   "source": [
    "## 練習時間\n",
    "試著使用 sklearn datasets 的其他資料集 (boston, ...)，來訓練自己的線性迴歸模型，並加上適當的正則化來觀察訓練情形。"
   ]
  },
  {
   "cell_type": "code",
   "execution_count": 1,
   "metadata": {},
   "outputs": [],
   "source": [
    "import numpy as np\n",
    "import matplotlib.pyplot as plt\n",
    "from sklearn import datasets, linear_model\n",
    "from sklearn.model_selection import train_test_split\n",
    "from sklearn.metrics import mean_squared_error, r2_score"
   ]
  },
  {
   "cell_type": "code",
   "execution_count": 18,
   "metadata": {},
   "outputs": [],
   "source": [
    "boston = datasets.load_boston()\n",
    "\n",
    "x_train, x_test, y_train, y_test = train_test_split(boston.data, boston.target, test_size = 0.2)\n",
    "\n",
    "linreg = linear_model.LinearRegression()\n",
    "\n",
    "linreg.fit(x_train, y_train)\n",
    "\n",
    "y_pred = linreg.predict(x_test)"
   ]
  },
  {
   "cell_type": "code",
   "execution_count": 4,
   "metadata": {},
   "outputs": [
    {
     "name": "stdout",
     "output_type": "stream",
     "text": [
      "Mean squared error: 23.19\n"
     ]
    }
   ],
   "source": [
    "print(\"Mean squared error: %.2f\"\n",
    "      % mean_squared_error(y_test, y_pred))"
   ]
  },
  {
   "cell_type": "markdown",
   "metadata": {},
   "source": [
    "Lasso Reg"
   ]
  },
  {
   "cell_type": "code",
   "execution_count": 8,
   "metadata": {},
   "outputs": [
    {
     "name": "stdout",
     "output_type": "stream",
     "text": [
      "[-0.09297466  0.05920061 -0.          0.         -0.          2.64865821\n",
      "  0.0035089  -0.94505489  0.26412198 -0.01576739 -0.72941123  0.00911333\n",
      " -0.60672541]\n",
      "Mean squared error: 25.24\n"
     ]
    }
   ],
   "source": [
    "lasso = linear_model.Lasso(alpha=0.5)\n",
    "\n",
    "lasso.fit(x_train, y_train)\n",
    "\n",
    "y_pred = lasso.predict(x_test)\n",
    "\n",
    "print(lasso.coef_)\n",
    "\n",
    "print(\"Mean squared error: %.2f\"\n",
    "      % mean_squared_error(y_test, y_pred))"
   ]
  },
  {
   "cell_type": "code",
   "execution_count": 7,
   "metadata": {},
   "outputs": [
    {
     "name": "stdout",
     "output_type": "stream",
     "text": [
      "[-0.06416221  0.05970428 -0.          0.         -0.          1.07293393\n",
      "  0.02194609 -0.67159474  0.24694979 -0.01553607 -0.70469826  0.00741425\n",
      " -0.71506046]\n",
      "Mean squared error: 27.63\n"
     ]
    }
   ],
   "source": [
    "lasso = linear_model.Lasso(alpha=1.0)\n",
    "\n",
    "lasso.fit(x_train, y_train)\n",
    "\n",
    "y_pred = lasso.predict(x_test)\n",
    "\n",
    "print(lasso.coef_)\n",
    "\n",
    "print(\"Mean squared error: %.2f\"\n",
    "      % mean_squared_error(y_test, y_pred))"
   ]
  },
  {
   "cell_type": "code",
   "execution_count": 10,
   "metadata": {},
   "outputs": [
    {
     "name": "stdout",
     "output_type": "stream",
     "text": [
      "[-0.01144306  0.0481499  -0.          0.         -0.          0.\n",
      "  0.04786195 -0.05772715  0.16007293 -0.01257128 -0.56284459  0.0054535\n",
      " -0.79034669]\n",
      "Mean squared error: 33.04\n"
     ]
    }
   ],
   "source": [
    "lasso = linear_model.Lasso(alpha=2.0)\n",
    "\n",
    "lasso.fit(x_train, y_train)\n",
    "\n",
    "y_pred = lasso.predict(x_test)\n",
    "\n",
    "print(lasso.coef_)\n",
    "\n",
    "print(\"Mean squared error: %.2f\"\n",
    "      % mean_squared_error(y_test, y_pred))"
   ]
  },
  {
   "cell_type": "markdown",
   "metadata": {},
   "source": [
    "Ridge Reg"
   ]
  },
  {
   "cell_type": "code",
   "execution_count": 12,
   "metadata": {},
   "outputs": [
    {
     "name": "stdout",
     "output_type": "stream",
     "text": [
      "[-1.23360769e-01  5.69382632e-02  3.91345767e-02  1.16991378e+00\n",
      " -1.33459229e+01  4.02798989e+00 -2.03542108e-03 -1.41270744e+00\n",
      "  3.08307410e-01 -1.43420440e-02 -8.89071055e-01  1.01400963e-02\n",
      " -4.89275889e-01]\n",
      "Mean squared error: 23.21\n"
     ]
    }
   ],
   "source": [
    "ridge = linear_model.Ridge(alpha=0.5)\n",
    "\n",
    "ridge.fit(x_train, y_train)\n",
    "\n",
    "y_pred = ridge.predict(x_test)\n",
    "\n",
    "print(ridge.coef_)\n",
    "\n",
    "print(\"Mean squared error: %.2f\"\n",
    "      % mean_squared_error(y_test, y_pred))"
   ]
  },
  {
   "cell_type": "code",
   "execution_count": 11,
   "metadata": {},
   "outputs": [
    {
     "name": "stdout",
     "output_type": "stream",
     "text": [
      "[-1.22591226e-01  5.73282239e-02  2.58840068e-02  1.09877840e+00\n",
      " -1.04425009e+01  4.04119385e+00 -4.73883506e-03 -1.37227565e+00\n",
      "  3.00435737e-01 -1.45340016e-02 -8.57190548e-01  1.02330402e-02\n",
      " -4.92234627e-01]\n",
      "Mean squared error: 23.28\n"
     ]
    }
   ],
   "source": [
    "ridge = linear_model.Ridge(alpha=1.0)\n",
    "\n",
    "ridge.fit(x_train, y_train)\n",
    "\n",
    "y_pred = ridge.predict(x_test)\n",
    "\n",
    "print(ridge.coef_)\n",
    "\n",
    "print(\"Mean squared error: %.2f\"\n",
    "      % mean_squared_error(y_test, y_pred))"
   ]
  },
  {
   "cell_type": "code",
   "execution_count": 14,
   "metadata": {},
   "outputs": [
    {
     "name": "stdout",
     "output_type": "stream",
     "text": [
      "[-0.12172231  0.05782557  0.01140257  1.00872675 -7.27697157  4.03894106\n",
      " -0.00755316 -1.32798665  0.2923022  -0.01476245 -0.82329895  0.01032348\n",
      " -0.49662814]\n",
      "Mean squared error: 23.42\n"
     ]
    }
   ],
   "source": [
    "ridge = linear_model.Ridge(alpha=2.0)\n",
    "\n",
    "ridge.fit(x_train, y_train)\n",
    "\n",
    "y_pred = ridge.predict(x_test)\n",
    "\n",
    "print(ridge.coef_)\n",
    "\n",
    "print(\"Mean squared error: %.2f\"\n",
    "      % mean_squared_error(y_test, y_pred))"
   ]
  },
  {
   "cell_type": "code",
   "execution_count": 19,
   "metadata": {},
   "outputs": [
    {
     "name": "stdout",
     "output_type": "stream",
     "text": [
      "Mean squared error: 0.07\n"
     ]
    }
   ],
   "source": [
    "wine = datasets.load_wine()\n",
    "\n",
    "x_train, x_test, y_train, y_test = train_test_split(wine.data, wine.target, test_size = 0.2)\n",
    "\n",
    "linreg = linear_model.LinearRegression()\n",
    "\n",
    "linreg.fit(x_train, y_train)\n",
    "\n",
    "y_pred = linreg.predict(x_test)\n",
    "\n",
    "print(\"Mean squared error: %.2f\"\n",
    "      % mean_squared_error(y_test, y_pred))"
   ]
  },
  {
   "cell_type": "markdown",
   "metadata": {},
   "source": [
    "Lasso Reg"
   ]
  },
  {
   "cell_type": "code",
   "execution_count": 20,
   "metadata": {},
   "outputs": [
    {
     "name": "stdout",
     "output_type": "stream",
     "text": [
      "[-0.          0.          0.          0.01058882 -0.         -0.\n",
      " -0.          0.         -0.          0.04624708 -0.         -0.\n",
      " -0.00159266]\n",
      "Mean squared error: 0.30\n"
     ]
    }
   ],
   "source": [
    "lasso = linear_model.Lasso(alpha=0.5)\n",
    "\n",
    "lasso.fit(x_train, y_train)\n",
    "\n",
    "y_pred = lasso.predict(x_test)\n",
    "\n",
    "print(lasso.coef_)\n",
    "\n",
    "print(\"Mean squared error: %.2f\"\n",
    "      % mean_squared_error(y_test, y_pred))"
   ]
  },
  {
   "cell_type": "code",
   "execution_count": 21,
   "metadata": {},
   "outputs": [
    {
     "name": "stdout",
     "output_type": "stream",
     "text": [
      "[ 0.          0.          0.          0.         -0.         -0.\n",
      " -0.          0.         -0.          0.         -0.         -0.\n",
      " -0.00152768]\n",
      "Mean squared error: 0.41\n"
     ]
    }
   ],
   "source": [
    "lasso = linear_model.Lasso(alpha=1.0)\n",
    "\n",
    "lasso.fit(x_train, y_train)\n",
    "\n",
    "y_pred = lasso.predict(x_test)\n",
    "\n",
    "print(lasso.coef_)\n",
    "\n",
    "print(\"Mean squared error: %.2f\"\n",
    "      % mean_squared_error(y_test, y_pred))"
   ]
  },
  {
   "cell_type": "code",
   "execution_count": 22,
   "metadata": {},
   "outputs": [
    {
     "name": "stdout",
     "output_type": "stream",
     "text": [
      "[ 0.          0.          0.          0.         -0.         -0.\n",
      " -0.          0.         -0.          0.         -0.         -0.\n",
      " -0.00151793]\n",
      "Mean squared error: 0.41\n"
     ]
    }
   ],
   "source": [
    "lasso = linear_model.Lasso(alpha=2.0)\n",
    "\n",
    "lasso.fit(x_train, y_train)\n",
    "\n",
    "y_pred = lasso.predict(x_test)\n",
    "\n",
    "print(lasso.coef_)\n",
    "\n",
    "print(\"Mean squared error: %.2f\"\n",
    "      % mean_squared_error(y_test, y_pred))"
   ]
  },
  {
   "cell_type": "markdown",
   "metadata": {},
   "source": [
    "Ridge Reg"
   ]
  },
  {
   "cell_type": "code",
   "execution_count": 23,
   "metadata": {},
   "outputs": [
    {
     "name": "stdout",
     "output_type": "stream",
     "text": [
      "[-0.12202486  0.00869064 -0.20068601  0.04358832 -0.00119931  0.09829893\n",
      " -0.34059876 -0.11923354  0.0693344   0.07615479 -0.22486703 -0.25502065\n",
      " -0.00067745]\n",
      "Mean squared error: 0.07\n"
     ]
    }
   ],
   "source": [
    "ridge = linear_model.Ridge(alpha=0.5)\n",
    "\n",
    "ridge.fit(x_train, y_train)\n",
    "\n",
    "y_pred = ridge.predict(x_test)\n",
    "\n",
    "print(ridge.coef_)\n",
    "\n",
    "print(\"Mean squared error: %.2f\"\n",
    "      % mean_squared_error(y_test, y_pred))"
   ]
  },
  {
   "cell_type": "code",
   "execution_count": 24,
   "metadata": {},
   "outputs": [
    {
     "name": "stdout",
     "output_type": "stream",
     "text": [
      "[-0.12213953  0.01016292 -0.19190995  0.04292117 -0.00118103  0.08724419\n",
      " -0.3355368  -0.09279972  0.06779386  0.07787967 -0.20345344 -0.24992274\n",
      " -0.00068602]\n",
      "Mean squared error: 0.07\n"
     ]
    }
   ],
   "source": [
    "ridge = linear_model.Ridge(alpha=1.0)\n",
    "\n",
    "ridge.fit(x_train, y_train)\n",
    "\n",
    "y_pred = ridge.predict(x_test)\n",
    "\n",
    "print(ridge.coef_)\n",
    "\n",
    "print(\"Mean squared error: %.2f\"\n",
    "      % mean_squared_error(y_test, y_pred))"
   ]
  },
  {
   "cell_type": "code",
   "execution_count": 25,
   "metadata": {},
   "outputs": [
    {
     "name": "stdout",
     "output_type": "stream",
     "text": [
      "[-0.12193358  0.01238787 -0.17489829  0.04180819 -0.00117971  0.06870134\n",
      " -0.32674638 -0.06367268  0.06465623  0.08054648 -0.17146475 -0.24199876\n",
      " -0.0007013 ]\n",
      "Mean squared error: 0.07\n"
     ]
    }
   ],
   "source": [
    "ridge = linear_model.Ridge(alpha=2.0)\n",
    "\n",
    "ridge.fit(x_train, y_train)\n",
    "\n",
    "y_pred = ridge.predict(x_test)\n",
    "\n",
    "print(ridge.coef_)\n",
    "\n",
    "print(\"Mean squared error: %.2f\"\n",
    "      % mean_squared_error(y_test, y_pred))"
   ]
  },
  {
   "cell_type": "markdown",
   "metadata": {},
   "source": [
    "- target is continune\n",
    " - Lasso alpha big MSE big\n",
    " - Ridge alphe big MSE big but change is small\n",
    "\n",
    "- target is order\n",
    " - Lasso alpha big MSE big but will converge\n",
    " - Ridge alpha big MSE big but is same as LinearRegression"
   ]
  },
  {
   "cell_type": "code",
   "execution_count": null,
   "metadata": {},
   "outputs": [],
   "source": []
  }
 ],
 "metadata": {
  "kernelspec": {
   "display_name": "Python 3",
   "language": "python",
   "name": "python3"
  },
  "language_info": {
   "codemirror_mode": {
    "name": "ipython",
    "version": 3
   },
   "file_extension": ".py",
   "mimetype": "text/x-python",
   "name": "python",
   "nbconvert_exporter": "python",
   "pygments_lexer": "ipython3",
   "version": "3.7.3"
  }
 },
 "nbformat": 4,
 "nbformat_minor": 2
}
